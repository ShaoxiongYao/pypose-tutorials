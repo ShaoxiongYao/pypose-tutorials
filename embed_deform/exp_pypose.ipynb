{
 "cells": [
  {
   "cell_type": "code",
   "execution_count": 183,
   "metadata": {},
   "outputs": [
    {
     "name": "stdout",
     "output_type": "stream",
     "text": [
      "The autoreload extension is already loaded. To reload it, use:\n",
      "  %reload_ext autoreload\n"
     ]
    }
   ],
   "source": [
    "%load_ext autoreload\n",
    "%autoreload 2\n",
    "\n",
    "import os\n",
    "\n",
    "import pickle\n",
    "import numpy as np\n",
    "import cvxpy as cp\n",
    "import scipy.linalg\n",
    "import time\n",
    "\n",
    "import matplotlib.pyplot as plt \n",
    "%matplotlib inline\n",
    "\n",
    "import open3d as o3d\n",
    "import pypose as pp\n",
    "import torch\n",
    "from torch import nn\n",
    "\n",
    "from IPython.display import clear_output"
   ]
  },
  {
   "cell_type": "code",
   "execution_count": 184,
   "metadata": {},
   "outputs": [],
   "source": [
    "coord_mesh = o3d.geometry.TriangleMesh.create_coordinate_frame(size=0.1)"
   ]
  },
  {
   "cell_type": "code",
   "execution_count": 206,
   "metadata": {},
   "outputs": [],
   "source": [
    "mesh = o3d.geometry.TriangleMesh.create_sphere(radius=0.1, resolution=20)\n",
    "mesh.compute_vertex_normals()\n",
    "o3d.visualization.draw_geometries([mesh])"
   ]
  },
  {
   "cell_type": "code",
   "execution_count": 207,
   "metadata": {},
   "outputs": [],
   "source": [
    "mesh_pts = np.asarray(mesh.vertices)\n",
    "mesh_tri = np.asarray(mesh.triangles)"
   ]
  },
  {
   "cell_type": "code",
   "execution_count": 208,
   "metadata": {},
   "outputs": [],
   "source": [
    "edges01 = np.stack([mesh_tri[:, 0], mesh_tri[:, 1]]).T\n",
    "edges12 = np.stack([mesh_tri[:, 1], mesh_tri[:, 2]]).T\n",
    "edges20 = np.stack([mesh_tri[:, 2], mesh_tri[:, 0]]).T\n",
    "\n",
    "mesh_edges = np.concatenate([edges01, np.flip(edges01, axis=1), \n",
    "                             edges12, np.flip(edges12, axis=1),\n",
    "                             edges20, np.flip(edges20, axis=1)], axis=0)"
   ]
  },
  {
   "cell_type": "code",
   "execution_count": 199,
   "metadata": {},
   "outputs": [],
   "source": [
    "class NodeGraph(nn.Module):\n",
    "    def __init__(self, rest_pts, edges) -> None:\n",
    "        super().__init__()\n",
    "        \n",
    "        self.num_pts = rest_pts.shape[0]\n",
    "        self.rest_pts = torch.tensor(rest_pts, dtype=torch.double)\n",
    "        self.num_edges = edges.shape[0]\n",
    "        self.edges = torch.tensor(edges, dtype=torch.long)\n",
    "\n",
    "        self.R_tsr = pp.Parameter(pp.identity_SO3(self.num_pts, dtype=torch.double))\n",
    "        self.t_tsr = nn.Parameter(torch.zeros((self.num_pts, 3), dtype=torch.double))\n",
    "        \n",
    "        self.w_reg = 1.0\n",
    "        self.w_handle = 1e3\n",
    "    \n",
    "    def get_deform_pts(self):\n",
    "        deform_pts = self.R_tsr.Act(self.rest_pts) + self.t_tsr\n",
    "        return deform_pts\n",
    "\n",
    "    def forward(self, handle_idx, handle_tgt_pts):\n",
    "        res_handle = torch.zeros((handle_idx.shape[0], 3)).double()\n",
    "        handle_rot = self.R_tsr[handle_idx, :]\n",
    "        handle_t = self.t_tsr[handle_idx, :]\n",
    "        handle_src_pts = self.rest_pts[handle_idx, :]\n",
    "        res_handle = handle_tgt_pts - handle_rot.Act(handle_src_pts) - handle_t\n",
    "\n",
    "        res_reg = torch.zeros((self.num_edges, 3)).double()\n",
    "\n",
    "        # read points\n",
    "        edge0_pts = self.rest_pts[self.edges[:, 0], :]\n",
    "        edge1_pts = self.rest_pts[self.edges[:, 1], :]\n",
    "        # read rotations\n",
    "        edge0_rot = self.R_tsr[self.edges[:, 0], :]\n",
    "        # read translations\n",
    "        edge0_t = self.t_tsr[self.edges[:, 0], :]\n",
    "        edge1_t = self.t_tsr[self.edges[:, 1], :]\n",
    "\n",
    "        res_reg = edge0_rot.Act(edge0_pts-edge1_pts) - (edge0_pts+edge0_t) + (edge1_pts+edge1_t)\n",
    "        return torch.cat([res_handle, res_reg])"
   ]
  },
  {
   "cell_type": "code",
   "execution_count": 210,
   "metadata": {},
   "outputs": [],
   "source": [
    "node_graph = NodeGraph(mesh_pts, mesh_edges)"
   ]
  },
  {
   "cell_type": "code",
   "execution_count": 211,
   "metadata": {},
   "outputs": [
    {
     "ename": "",
     "evalue": "",
     "output_type": "error",
     "traceback": [
      "\u001b[1;31mCanceled future for execute_request message before replies were done"
     ]
    },
    {
     "ename": "",
     "evalue": "",
     "output_type": "error",
     "traceback": [
      "\u001b[1;31mThe Kernel crashed while executing code in the the current cell or a previous cell. Please review the code in the cell(s) to identify a possible cause of the failure. Click <a href='https://aka.ms/vscodeJupyterKernelCrash'>here</a> for more info. View Jupyter <a href='command:jupyter.viewOutput'>log</a> for further details."
     ]
    }
   ],
   "source": [
    "handle_idx = torch.tensor([0, 41], dtype=torch.long)\n",
    "handle_tgt_pts = torch.tensor([mesh_pts[0, :]+0.01, mesh_pts[41, :]+0.01], dtype=torch.double)\n",
    "\n",
    "ball_lst = []\n",
    "for i in range(handle_idx.shape[0]):\n",
    "    ball = o3d.geometry.TriangleMesh.create_sphere(radius=0.01, resolution=20)\n",
    "    ball.translate(handle_tgt_pts[i, :])\n",
    "    ball.compute_vertex_normals()\n",
    "    ball.paint_uniform_color([1, 0, 0])\n",
    "\n",
    "    ball_lst.append(ball)\n",
    "o3d.visualization.draw_geometries([coord_mesh, mesh]+ball_lst)\n",
    "\n",
    "vis_pcd = o3d.geometry.PointCloud()\n",
    "\n",
    "optimizer = pp.optim.GaussNewton(node_graph)\n",
    "for i in range(10):\n",
    "    err = optimizer.step((handle_idx, handle_tgt_pts))\n",
    "    print(f\"step {i}:\", err)\n",
    "    \n",
    "    deform_pts = node_graph.get_deform_pts().detach().numpy()\n",
    "\n",
    "    update_ball_lst = []\n",
    "    for i in range(handle_idx.shape[0]):\n",
    "        ball = o3d.geometry.TriangleMesh.create_sphere(radius=0.01, resolution=20)\n",
    "        ball.translate(deform_pts[handle_idx[i], :])\n",
    "        ball.compute_vertex_normals()\n",
    "        ball.paint_uniform_color([0, 1, 0])\n",
    "\n",
    "        update_ball_lst.append(ball)\n",
    "\n",
    "    vis_pcd.points = o3d.utility.Vector3dVector(deform_pts)\n",
    "    line_set = o3d.geometry.LineSet.create_from_point_cloud_correspondences(\n",
    "        vis_pcd, vis_pcd, o3d.utility.Vector2iVector(mesh_edges))\n",
    "    o3d.visualization.draw_geometries([coord_mesh, vis_pcd, line_set]+ball_lst+update_ball_lst)\n"
   ]
  },
  {
   "cell_type": "code",
   "execution_count": 80,
   "metadata": {},
   "outputs": [],
   "source": [
    "res = ng(None)"
   ]
  },
  {
   "cell_type": "code",
   "execution_count": 81,
   "metadata": {},
   "outputs": [
    {
     "data": {
      "text/plain": [
       "tensor([[ 0.0000,  0.0000,  0.0000],\n",
       "        [ 0.9493,  0.4947, -1.1476],\n",
       "        [-0.9493, -0.4947,  1.1476]], dtype=torch.float64,\n",
       "       grad_fn=<SubBackward0>)"
      ]
     },
     "execution_count": 81,
     "metadata": {},
     "output_type": "execute_result"
    }
   ],
   "source": [
    "res"
   ]
  },
  {
   "cell_type": "code",
   "execution_count": 60,
   "metadata": {},
   "outputs": [],
   "source": [
    "class TestNet(nn.Module):\n",
    "    def __init__(self, n, dtype=torch.double):\n",
    "        super().__init__()\n",
    "        self.weight = pp.Parameter(pp.randn_SE3(n, dtype=dtype))\n",
    "\n",
    "    def forward(self, src_pts):\n",
    "        return self.weight.Act(src_pts)"
   ]
  },
  {
   "cell_type": "code",
   "execution_count": 61,
   "metadata": {},
   "outputs": [],
   "source": [
    "tn = TestNet(6)"
   ]
  },
  {
   "cell_type": "code",
   "execution_count": 62,
   "metadata": {},
   "outputs": [],
   "source": [
    "optimizer = pp.optim.GaussNewton(tn)"
   ]
  },
  {
   "cell_type": "code",
   "execution_count": 65,
   "metadata": {},
   "outputs": [
    {
     "data": {
      "text/plain": [
       "tensor([[ 1.1396, -0.0567,  0.4078],\n",
       "        [ 1.7431,  0.9849, -0.1012],\n",
       "        [-0.0565, -0.3222, -0.3441],\n",
       "        [-0.3964, -0.3177,  0.9354],\n",
       "        [-0.0024,  0.6332,  0.3844],\n",
       "        [ 0.6178, -0.7093,  2.3403]], dtype=torch.float64,\n",
       "       grad_fn=<ViewBackward0>)"
      ]
     },
     "execution_count": 65,
     "metadata": {},
     "output_type": "execute_result"
    }
   ],
   "source": [
    "tn.weight.Act(src_pts)"
   ]
  },
  {
   "cell_type": "code",
   "execution_count": 66,
   "metadata": {},
   "outputs": [
    {
     "data": {
      "text/plain": [
       "tensor([[ 1.1396, -0.0567,  0.4078],\n",
       "        [ 1.7431,  0.9849, -0.1012],\n",
       "        [-0.0565, -0.3222, -0.3441],\n",
       "        [-0.3964, -0.3177,  0.9354],\n",
       "        [-0.0024,  0.6332,  0.3844],\n",
       "        [ 0.6178, -0.7093,  2.3403]], dtype=torch.float64)"
      ]
     },
     "execution_count": 66,
     "metadata": {},
     "output_type": "execute_result"
    }
   ],
   "source": [
    "tgt_pts"
   ]
  },
  {
   "cell_type": "code",
   "execution_count": 64,
   "metadata": {},
   "outputs": [
    {
     "name": "stdout",
     "output_type": "stream",
     "text": [
      "step 0: tensor(0.0722, dtype=torch.float64)\n",
      "step 1: tensor(3.5399e-05, dtype=torch.float64)\n",
      "step 2: tensor(2.2810e-11, dtype=torch.float64)\n",
      "step 3: tensor(9.8528e-24, dtype=torch.float64)\n",
      "step 4: tensor(0., dtype=torch.float64)\n",
      "step 5: tensor(0., dtype=torch.float64)\n",
      "step 6: tensor(0., dtype=torch.float64)\n",
      "step 7: tensor(0., dtype=torch.float64)\n",
      "step 8: tensor(0., dtype=torch.float64)\n",
      "step 9: tensor(0., dtype=torch.float64)\n",
      "step 10: tensor(0., dtype=torch.float64)\n",
      "step 11: tensor(0., dtype=torch.float64)\n",
      "step 12: tensor(0., dtype=torch.float64)\n",
      "step 13: tensor(0., dtype=torch.float64)\n",
      "step 14: tensor(0., dtype=torch.float64)\n",
      "step 15: tensor(0., dtype=torch.float64)\n",
      "step 16: tensor(0., dtype=torch.float64)\n",
      "step 17: tensor(0., dtype=torch.float64)\n",
      "step 18: tensor(0., dtype=torch.float64)\n",
      "step 19: tensor(0., dtype=torch.float64)\n",
      "step 20: tensor(0., dtype=torch.float64)\n",
      "step 21: tensor(0., dtype=torch.float64)\n",
      "step 22: tensor(0., dtype=torch.float64)\n",
      "step 23: tensor(0., dtype=torch.float64)\n",
      "step 24: tensor(0., dtype=torch.float64)\n",
      "step 25: tensor(0., dtype=torch.float64)\n",
      "step 26: tensor(0., dtype=torch.float64)\n",
      "step 27: tensor(0., dtype=torch.float64)\n",
      "step 28: tensor(0., dtype=torch.float64)\n",
      "step 29: tensor(0., dtype=torch.float64)\n",
      "step 30: tensor(0., dtype=torch.float64)\n",
      "step 31: tensor(0., dtype=torch.float64)\n",
      "step 32: tensor(0., dtype=torch.float64)\n",
      "step 33: tensor(0., dtype=torch.float64)\n",
      "step 34: tensor(0., dtype=torch.float64)\n",
      "step 35: tensor(0., dtype=torch.float64)\n",
      "step 36: tensor(0., dtype=torch.float64)\n",
      "step 37: tensor(0., dtype=torch.float64)\n",
      "step 38: tensor(0., dtype=torch.float64)\n",
      "step 39: tensor(0., dtype=torch.float64)\n",
      "step 40: tensor(0., dtype=torch.float64)\n",
      "step 41: tensor(0., dtype=torch.float64)\n",
      "step 42: tensor(0., dtype=torch.float64)\n",
      "step 43: tensor(0., dtype=torch.float64)\n",
      "step 44: tensor(0., dtype=torch.float64)\n",
      "step 45: tensor(0., dtype=torch.float64)\n",
      "step 46: tensor(0., dtype=torch.float64)\n",
      "step 47: tensor(0., dtype=torch.float64)\n",
      "step 48: tensor(0., dtype=torch.float64)\n",
      "step 49: tensor(0., dtype=torch.float64)\n",
      "step 50: tensor(0., dtype=torch.float64)\n",
      "step 51: tensor(0., dtype=torch.float64)\n",
      "step 52: tensor(0., dtype=torch.float64)\n",
      "step 53: tensor(0., dtype=torch.float64)\n",
      "step 54: tensor(0., dtype=torch.float64)\n",
      "step 55: tensor(0., dtype=torch.float64)\n",
      "step 56: tensor(0., dtype=torch.float64)\n",
      "step 57: tensor(0., dtype=torch.float64)\n",
      "step 58: tensor(0., dtype=torch.float64)\n",
      "step 59: tensor(0., dtype=torch.float64)\n",
      "step 60: tensor(0., dtype=torch.float64)\n",
      "step 61: tensor(0., dtype=torch.float64)\n",
      "step 62: tensor(0., dtype=torch.float64)\n",
      "step 63: tensor(0., dtype=torch.float64)\n",
      "step 64: tensor(0., dtype=torch.float64)\n",
      "step 65: tensor(0., dtype=torch.float64)\n",
      "step 66: tensor(0., dtype=torch.float64)\n",
      "step 67: tensor(0., dtype=torch.float64)\n",
      "step 68: tensor(0., dtype=torch.float64)\n",
      "step 69: tensor(0., dtype=torch.float64)\n",
      "step 70: tensor(0., dtype=torch.float64)\n",
      "step 71: tensor(0., dtype=torch.float64)\n",
      "step 72: tensor(0., dtype=torch.float64)\n",
      "step 73: tensor(0., dtype=torch.float64)\n",
      "step 74: tensor(0., dtype=torch.float64)\n",
      "step 75: tensor(0., dtype=torch.float64)\n",
      "step 76: tensor(0., dtype=torch.float64)\n",
      "step 77: tensor(0., dtype=torch.float64)\n",
      "step 78: tensor(0., dtype=torch.float64)\n",
      "step 79: tensor(0., dtype=torch.float64)\n",
      "step 80: tensor(0., dtype=torch.float64)\n",
      "step 81: tensor(0., dtype=torch.float64)\n",
      "step 82: tensor(0., dtype=torch.float64)\n",
      "step 83: tensor(0., dtype=torch.float64)\n",
      "step 84: tensor(0., dtype=torch.float64)\n",
      "step 85: tensor(0., dtype=torch.float64)\n",
      "step 86: tensor(0., dtype=torch.float64)\n",
      "step 87: tensor(0., dtype=torch.float64)\n",
      "step 88: tensor(0., dtype=torch.float64)\n",
      "step 89: tensor(0., dtype=torch.float64)\n",
      "step 90: tensor(0., dtype=torch.float64)\n",
      "step 91: tensor(0., dtype=torch.float64)\n",
      "step 92: tensor(0., dtype=torch.float64)\n",
      "step 93: tensor(0., dtype=torch.float64)\n",
      "step 94: tensor(0., dtype=torch.float64)\n",
      "step 95: tensor(0., dtype=torch.float64)\n",
      "step 96: tensor(0., dtype=torch.float64)\n",
      "step 97: tensor(0., dtype=torch.float64)\n",
      "step 98: tensor(0., dtype=torch.float64)\n",
      "step 99: tensor(0., dtype=torch.float64)\n"
     ]
    }
   ],
   "source": [
    "for i in range(100):\n",
    "    err = optimizer.step(src_pts, target = tgt_pts)\n",
    "    print(f\"step {i}:\", err)"
   ]
  },
  {
   "cell_type": "code",
   "execution_count": 41,
   "metadata": {},
   "outputs": [
    {
     "name": "stdout",
     "output_type": "stream",
     "text": [
      "iteration 0 0.7971451096979688\n",
      "iteration 1 0.37133094360597485\n",
      "iteration 2 0.48577792425153027\n",
      "iteration 3 0.22135161734040165\n",
      "iteration 4 0.528213574882948\n",
      "iteration 5 0.5793738113395689\n",
      "iteration 6 0.40886933898723066\n",
      "iteration 7 0.21180537428187404\n",
      "iteration 8 0.363594062162387\n",
      "iteration 9 0.3675338429540494\n",
      "iteration 10 0.15612600501735485\n",
      "iteration 11 0.307457456231587\n",
      "iteration 12 0.45184362093047553\n",
      "iteration 13 0.3540842145489769\n",
      "iteration 14 0.13217830431881675\n",
      "iteration 15 0.30537883520598974\n",
      "iteration 16 0.3243795211338801\n",
      "iteration 17 0.11460742623143173\n",
      "iteration 18 0.3314173399889008\n",
      "iteration 19 0.4637362487490478\n",
      "iteration 20 0.34114497235551383\n",
      "iteration 21 0.10772936172793006\n",
      "iteration 22 0.28204802109237187\n",
      "iteration 23 0.2503406174388113\n",
      "iteration 24 0.06420061813792652\n",
      "iteration 25 0.17605387358126579\n",
      "iteration 26 0.08038880027515018\n",
      "iteration 27 0.21979147416215458\n",
      "iteration 28 0.22313042250372908\n",
      "iteration 29 0.07836775695118217\n",
      "iteration 30 0.16530797774314646\n",
      "iteration 31 0.07453255840993969\n",
      "iteration 32 0.19371793386426198\n",
      "iteration 33 0.16147937117517433\n",
      "iteration 34 0.14675589443207213\n",
      "iteration 35 0.16231717173743127\n",
      "iteration 36 0.07014816731414726\n",
      "iteration 37 0.0799847410221394\n",
      "iteration 38 0.1830198369908137\n",
      "iteration 39 0.1311785377398882\n",
      "iteration 40 0.19155909541067548\n",
      "iteration 41 0.1598452767224883\n",
      "iteration 42 0.15883956519351988\n",
      "iteration 43 0.16284071734764\n",
      "iteration 44 0.12350983519394383\n",
      "iteration 45 0.21838600339325764\n",
      "iteration 46 0.19222780572234086\n",
      "iteration 47 0.15852683603537404\n",
      "iteration 48 0.14376440967633775\n",
      "iteration 49 0.1834033930157039\n",
      "iteration 50 0.1399907383696653\n",
      "iteration 51 0.19111457090175737\n",
      "iteration 52 0.12962433546236596\n",
      "iteration 53 0.20028684088163573\n",
      "iteration 54 0.12863647331914504\n",
      "iteration 55 0.21731051511423435\n",
      "iteration 56 0.15155852564894323\n",
      "iteration 57 0.2369777923983552\n",
      "iteration 58 0.1862128535179343\n",
      "iteration 59 0.2350087895883038\n",
      "iteration 60 0.21851344469317122\n",
      "iteration 61 0.1817767728465716\n",
      "iteration 62 0.17288786667117653\n",
      "iteration 63 0.19788747985125144\n",
      "iteration 64 0.171217768879216\n",
      "iteration 65 0.20936530057224734\n",
      "iteration 66 0.19129649271719049\n",
      "iteration 67 0.18937375319233513\n",
      "iteration 68 0.16303401188470565\n",
      "iteration 69 0.22480002990970815\n",
      "iteration 70 0.19526505092216281\n",
      "iteration 71 0.20447413397804368\n",
      "iteration 72 0.19247158608928389\n",
      "iteration 73 0.18708271810823468\n",
      "iteration 74 0.16219464737351316\n",
      "iteration 75 0.2256300862998057\n",
      "iteration 76 0.20793153582557408\n",
      "iteration 77 0.175524806768084\n",
      "iteration 78 0.15265620392838009\n",
      "iteration 79 0.2336737308551244\n",
      "iteration 80 0.20960329002308245\n",
      "iteration 81 0.18228532966453237\n",
      "iteration 82 0.16616287230406315\n",
      "iteration 83 0.21666371356573602\n",
      "iteration 84 0.19288715124982828\n",
      "iteration 85 0.1965765309077099\n",
      "iteration 86 0.17915036678174537\n",
      "iteration 87 0.2046345673926192\n",
      "iteration 88 0.180896234602113\n",
      "iteration 89 0.20913322490451264\n",
      "iteration 90 0.19071251312530083\n",
      "iteration 91 0.1946932250898802\n",
      "iteration 92 0.17287374222715815\n",
      "iteration 93 0.21504746289343857\n",
      "iteration 94 0.1960279207315222\n",
      "iteration 95 0.18940459322943867\n",
      "iteration 96 0.16801316430440577\n",
      "iteration 97 0.21978665611158324\n",
      "iteration 98 0.1998365442539394\n",
      "iteration 99 0.1871511597702194\n"
     ]
    }
   ],
   "source": [
    "optimizer = torch.optim.SGD([X], lr = 0.2, momentum=0.9)\n",
    "scheduler = torch.optim.lr_scheduler.MultiStepLR(optimizer, milestones=[2,4], gamma=0.5)\n",
    "\n",
    "for i in range(100):\n",
    "    optimizer.zero_grad()\n",
    "    outputs = tgt_pts - X.Act(src_pts)\n",
    "    loss = torch.norm(outputs, p=2)\n",
    "    loss.backward()\n",
    "    optimizer.step()\n",
    "    scheduler.step()\n",
    "    print(f\"iteration {i}\", loss.item())"
   ]
  }
 ],
 "metadata": {
  "kernelspec": {
   "display_name": "Python 3",
   "language": "python",
   "name": "python3"
  },
  "language_info": {
   "codemirror_mode": {
    "name": "ipython",
    "version": 3
   },
   "file_extension": ".py",
   "mimetype": "text/x-python",
   "name": "python",
   "nbconvert_exporter": "python",
   "pygments_lexer": "ipython3",
   "version": "3.8.10"
  },
  "orig_nbformat": 4,
  "vscode": {
   "interpreter": {
    "hash": "767d51c1340bd893661ea55ea3124f6de3c7a262a8b4abca0554b478b1e2ff90"
   }
  }
 },
 "nbformat": 4,
 "nbformat_minor": 2
}
